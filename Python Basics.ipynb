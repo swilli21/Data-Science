{
    "cells": [
        {
            "metadata": {
                "collapsed": true
            },
            "cell_type": "markdown",
            "source": "# Jupyter Notebook on IBM Watson Studio"
        },
        {
            "metadata": {},
            "cell_type": "markdown",
            "source": "**Sophia Williams**"
        },
        {
            "metadata": {},
            "cell_type": "markdown",
            "source": " Introduction to becoming a Data Scientist"
        },
        {
            "metadata": {},
            "cell_type": "markdown",
            "source": "*Data science plays an integral role in the development of any modern society, because we can detect trends in data now that gives us prescient into the future.*"
        },
        {
            "metadata": {},
            "cell_type": "markdown",
            "source": "### This code computes the pythagorean theorem"
        },
        {
            "metadata": {},
            "cell_type": "code",
            "source": "import math\ndef pythag(a,b):\n    side1 = a**2\n    side2 = b**2\n    c = math.sqrt(side1 + side2)\n    return c\n\npythag(3,4)",
            "execution_count": 1,
            "outputs": [
                {
                    "output_type": "execute_result",
                    "execution_count": 1,
                    "data": {
                        "text/plain": "5.0"
                    },
                    "metadata": {}
                }
            ]
        },
        {
            "metadata": {},
            "cell_type": "markdown",
            "source": "> If I have seen further than others, it is by standing upon the shoulders of giants. -Issac Newton\n\n\n<img src=\"https://media.giphy.com/media/q6cDZMtB38ltm/giphy.gif\" alt=\"Quote\" title=\"Newton\" />"
        },
        {
            "metadata": {},
            "cell_type": "markdown",
            "source": "[Einstein the student of Newtons Work](https://www.nationalgeographic.com/news/2017/06/einstein-relativity-lasers-solar-genius-science/)"
        }
    ],
    "metadata": {
        "kernelspec": {
            "name": "python3",
            "display_name": "Python 3.7",
            "language": "python"
        },
        "language_info": {
            "name": "python",
            "version": "3.7.9",
            "mimetype": "text/x-python",
            "codemirror_mode": {
                "name": "ipython",
                "version": 3
            },
            "pygments_lexer": "ipython3",
            "nbconvert_exporter": "python",
            "file_extension": ".py"
        }
    },
    "nbformat": 4,
    "nbformat_minor": 1
}
